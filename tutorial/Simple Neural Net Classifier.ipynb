{
 "cells": [
  {
   "cell_type": "markdown",
   "id": "47a9832b",
   "metadata": {},
   "source": [
    "# Simple Neural Net Classifier"
   ]
  },
  {
   "cell_type": "markdown",
   "id": "5e81d96d",
   "metadata": {},
   "source": [
    "This notebook demonstrates using Tensorflow and Keras libraries to train a simple neural net classifier to make predictions using the CPUNKS-10k dataset. This notebook assumes familiarity with the Tensorflow, Keras and basic concepts in machine learning."
   ]
  },
  {
   "cell_type": "markdown",
   "id": "3ed67ca5",
   "metadata": {},
   "source": [
    "### Setup"
   ]
  },
  {
   "cell_type": "markdown",
   "id": "dda2db3c",
   "metadata": {},
   "source": [
    "Import and configure numpy, pandas, matplotlib, Tensorflow and Keras."
   ]
  },
  {
   "cell_type": "code",
   "execution_count": 8,
   "id": "6d0c136f",
   "metadata": {},
   "outputs": [],
   "source": [
    "import numpy as np\n",
    "import pandas as pd\n",
    "\n",
    "from keras.layers import Input, Flatten, Dense\n",
    "from keras.models import Model\n",
    "from keras.optimizers import Adam\n",
    "\n",
    "import matplotlib.image as mpimg\n",
    "import matplotlib.pyplot as plt\n",
    "%matplotlib inline\n",
    "plt.style.use('default')"
   ]
  },
  {
   "cell_type": "markdown",
   "id": "0aa951d9",
   "metadata": {},
   "source": [
    "### Load CPUNKS-10K Dataset and Inspect it."
   ]
  },
  {
   "cell_type": "markdown",
   "id": "cd664d57",
   "metadata": {},
   "source": [
    "The function below implements a naive partitioning strategy for creating train and test sets built from CPUNKS-10K. It is included here so that you can extend it as you explore new partitioning strategies."
   ]
  },
  {
   "cell_type": "code",
   "execution_count": 11,
   "id": "2757c2e5",
   "metadata": {},
   "outputs": [],
   "source": [
    "def load_data(labels):\n",
    "    df = pd.read_pickle('../data/punks.pkl')\n",
    "    X = df['img'].to_numpy()\n",
    "    Y = df[labels].to_numpy()\n",
    "    X  = np.array([row[0] for row in X])\n",
    "    X_train = X[0:9000]\n",
    "    Y_train = Y[0:9000]\n",
    "    X_test = X[9000:10000]\n",
    "    Y_test = Y[9000:10000]\n",
    "    return (X_train, Y_train), (X_test, Y_test)"
   ]
  },
  {
   "cell_type": "markdown",
   "id": "1646486a",
   "metadata": {},
   "source": [
    "Run the function to create train and test sets for use in Keras and Tensorflow. In this example, we will keep the classifier as simple as possible, using only 'male' and 'female' traits in classification."
   ]
  },
  {
   "cell_type": "code",
   "execution_count": 12,
   "id": "8512434e",
   "metadata": {},
   "outputs": [],
   "source": [
    "labels = ['male', 'female']\n",
    "(X_train, Y_train),(X_test, Y_test) = load_data(labels)"
   ]
  },
  {
   "cell_type": "markdown",
   "id": "d6b7313a",
   "metadata": {},
   "source": [
    "Inspect the data."
   ]
  },
  {
   "cell_type": "code",
   "execution_count": 13,
   "id": "c997e692",
   "metadata": {},
   "outputs": [
    {
     "data": {
      "text/plain": [
       "(((9000, 24, 24, 3), (9000, 2)), ((1000, 24, 24, 3), (1000, 2)))"
      ]
     },
     "execution_count": 13,
     "metadata": {},
     "output_type": "execute_result"
    }
   ],
   "source": [
    "(X_train.shape, Y_train.shape), (X_test.shape, Y_test.shape)"
   ]
  },
  {
   "cell_type": "markdown",
   "id": "b2e9ebf8",
   "metadata": {},
   "source": [
    "### Build a Simple Classifier."
   ]
  },
  {
   "cell_type": "markdown",
   "id": "6efa7551",
   "metadata": {},
   "source": [
    "Each of the images in CPUNKS-10K is comprised of a 24X24X3 `numpy` array holding uint8 values. The network shown below setups the `Input` layer based on image size, creates two `Dense` layers and a final output layer that will hold probabilities for each of the 2 labels in the output."
   ]
  },
  {
   "cell_type": "code",
   "execution_count": 15,
   "id": "3ce90e47",
   "metadata": {},
   "outputs": [],
   "source": [
    "input_layer = Input(shape = (24, 24,3))\n",
    "x = Flatten()(input_layer)\n",
    "\n",
    "x = Dense(units = 200, activation = 'relu')(x)\n",
    "x = Dense(units = 150, activation = 'relu')(x)\n",
    "\n",
    "output_layer = Dense(units=2, activation = 'softmax')(x)\n",
    "\n",
    "model = Model(input_layer, output_layer)"
   ]
  },
  {
   "cell_type": "markdown",
   "id": "e2fce397",
   "metadata": {},
   "source": [
    "Next, create an optimizer with learning rate = 0.0005 and compile the model."
   ]
  },
  {
   "cell_type": "code",
   "execution_count": 17,
   "id": "ea66b907",
   "metadata": {},
   "outputs": [],
   "source": [
    "opt = Adam(lr=0.0005)\n",
    "model.compile(loss='categorical_crossentropy',\n",
    "              optimizer=opt,\n",
    "              metrics = ['accuracy'])"
   ]
  },
  {
   "cell_type": "markdown",
   "id": "b16a934d",
   "metadata": {},
   "source": [
    "### Train the model"
   ]
  },
  {
   "cell_type": "markdown",
   "id": "664d6268",
   "metadata": {},
   "source": [
    "Use the model's `fit` method to train the model."
   ]
  },
  {
   "cell_type": "code",
   "execution_count": 18,
   "id": "34fcfd78",
   "metadata": {},
   "outputs": [
    {
     "name": "stderr",
     "output_type": "stream",
     "text": [
      "2021-12-29 10:21:48.381807: I tensorflow/compiler/mlir/mlir_graph_optimization_pass.cc:116] None of the MLIR optimization passes are enabled (registered 2)\n",
      "2021-12-29 10:21:48.400475: I tensorflow/core/platform/profile_utils/cpu_utils.cc:112] CPU Frequency: 3192785000 Hz\n"
     ]
    },
    {
     "name": "stdout",
     "output_type": "stream",
     "text": [
      "Epoch 1/10\n",
      "282/282 [==============================] - 2s 5ms/step - loss: 0.0749 - accuracy: 0.9807\n",
      "Epoch 2/10\n",
      "282/282 [==============================] - 2s 6ms/step - loss: 0.2215 - accuracy: 0.9844\n",
      "Epoch 3/10\n",
      "282/282 [==============================] - 2s 6ms/step - loss: 0.1137 - accuracy: 0.9890\n",
      "Epoch 4/10\n",
      "282/282 [==============================] - 1s 4ms/step - loss: 0.7515 - accuracy: 0.9826\n",
      "Epoch 5/10\n",
      "282/282 [==============================] - 2s 6ms/step - loss: 0.0700 - accuracy: 0.9934\n",
      "Epoch 6/10\n",
      "282/282 [==============================] - 1s 5ms/step - loss: 2.2757 - accuracy: 0.9537\n",
      "Epoch 7/10\n",
      "282/282 [==============================] - 1s 5ms/step - loss: 2.9459 - accuracy: 0.9669\n",
      "Epoch 8/10\n",
      "282/282 [==============================] - 1s 3ms/step - loss: 2.6924 - accuracy: 0.9608\n",
      "Epoch 9/10\n",
      "282/282 [==============================] - 1s 3ms/step - loss: 1.0806 - accuracy: 0.9910\n",
      "Epoch 10/10\n",
      "282/282 [==============================] - 1s 4ms/step - loss: 2.9762 - accuracy: 0.9628\n"
     ]
    },
    {
     "data": {
      "text/plain": [
       "<tensorflow.python.keras.callbacks.History at 0x7f9b0d5c85b0>"
      ]
     },
     "execution_count": 18,
     "metadata": {},
     "output_type": "execute_result"
    }
   ],
   "source": [
    "model.fit(X_train,\n",
    "          Y_train,\n",
    "          batch_size = 32,\n",
    "          epochs = 10,\n",
    "          shuffle = True)"
   ]
  },
  {
   "cell_type": "markdown",
   "id": "638815cb",
   "metadata": {},
   "source": [
    "### Evaluate the Model"
   ]
  },
  {
   "cell_type": "markdown",
   "id": "c96e54c6",
   "metadata": {},
   "source": [
    "The model's `evaluate` method will peek at the outsample test data to calculate an accuracy score for the trained model. "
   ]
  },
  {
   "cell_type": "code",
   "execution_count": 19,
   "id": "88aed127",
   "metadata": {},
   "outputs": [
    {
     "name": "stdout",
     "output_type": "stream",
     "text": [
      "32/32 [==============================] - 0s 2ms/step - loss: 0.0051 - accuracy: 0.9980\n"
     ]
    },
    {
     "data": {
      "text/plain": [
       "[0.005100749898701906, 0.9980000257492065]"
      ]
     },
     "execution_count": 19,
     "metadata": {},
     "output_type": "execute_result"
    }
   ],
   "source": [
    "model.evaluate(X_test, Y_test)"
   ]
  },
  {
   "cell_type": "markdown",
   "id": "c15e9580",
   "metadata": {},
   "source": [
    "You will probably find that the model is strikingly accurate for such a simple model. Understanding why this model is so accurate is a great exercise for beginning machine learning practicioners and left as an exercise. "
   ]
  },
  {
   "cell_type": "markdown",
   "id": "e85df0ef",
   "metadata": {},
   "source": [
    "### Trust and Validate"
   ]
  },
  {
   "cell_type": "markdown",
   "id": "8650082c",
   "metadata": {},
   "source": [
    "When a model returns surprising results, it is always good to validate using inspection methods. For humans, visual inpsection is a great first pass."
   ]
  },
  {
   "cell_type": "markdown",
   "id": "87cf1a3a",
   "metadata": {},
   "source": [
    "First, collect all the predictions on the outsample and prepare two arrays containing predicted v. actual"
   ]
  },
  {
   "cell_type": "code",
   "execution_count": 22,
   "id": "913bd4c3",
   "metadata": {},
   "outputs": [],
   "source": [
    "labels=np.array(labels)\n",
    "\n",
    "preds = model.predict(X_test)\n",
    "preds_single = labels[np.argmax(preds, axis=-1)]\n",
    "actual_single = labels[np.argmax(Y_test, axis=-1)]"
   ]
  },
  {
   "cell_type": "markdown",
   "id": "c522d19a",
   "metadata": {},
   "source": [
    "Now, plot the predicted v. actual in a grid using `matplotlib`."
   ]
  },
  {
   "cell_type": "code",
   "execution_count": 29,
   "id": "29fa3758",
   "metadata": {},
   "outputs": [
    {
     "data": {
      "image/png": "[encoded data removed]",
      "text/plain": [
       "<Figure size 1500x300 with 10 Axes>"
      ]
     },
     "metadata": {},
     "output_type": "display_data"
    }
   ],
   "source": [
    "n=10\n",
    "indices = np.random.choice(range(len(X_test)), n)\n",
    "fig = plt.figure(figsize=(15,3))\n",
    "fig.subplots_adjust(hspace=0.4, wspace=0.4)\n",
    "for i, idx in enumerate(indices):\n",
    "    img = X_test[idx]\n",
    "    ax = fig.add_subplot(1, n, i+1)\n",
    "    ax.axis('off')\n",
    "    ax.text(0.5, -0.35, \n",
    "            f\"{idx}:  {str(actual_single[idx])}\", \n",
    "            fontsize=10, \n",
    "            ha='center',\n",
    "            transform=ax.transAxes)\n",
    "    ax.text(0.5, \n",
    "            -0.70, \n",
    "            'pred  = ' + str(preds_single[idx]), \n",
    "            fontsize=10,  \n",
    "            ha='center',\n",
    "           transform=ax.transAxes)\n",
    "    ax.imshow(img)"
   ]
  }
 ],
 "metadata": {
  "kernelspec": {
   "display_name": "Python 3 (ipykernel)",
   "language": "python",
   "name": "python3"
  },
  "language_info": {
   "codemirror_mode": {
    "name": "ipython",
    "version": 3
   },
   "file_extension": ".py",
   "mimetype": "text/x-python",
   "name": "python",
   "nbconvert_exporter": "python",
   "pygments_lexer": "ipython3",
   "version": "3.9.7"
  }
 },
 "nbformat": 4,
 "nbformat_minor": 5
}
