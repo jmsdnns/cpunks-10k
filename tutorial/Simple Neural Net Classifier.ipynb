{
 "cells": [
  {
   "cell_type": "markdown",
   "id": "b8d43af9",
   "metadata": {},
   "source": [
    "# Simple Neural Net Classifier"
   ]
  },
  {
   "cell_type": "markdown",
   "id": "07890558",
   "metadata": {},
   "source": [
    "This notebook demonstrates using Tensorflow and Keras libraries to train a simple neural net classifier to make predictions using the CPUNKS-10k dataset. This notebook assumes familiarity with the Tensorflow, Keras and basic concepts in machine learning."
   ]
  },
  {
   "cell_type": "markdown",
   "id": "545117ea",
   "metadata": {},
   "source": [
    "### Setup"
   ]
  },
  {
   "cell_type": "markdown",
   "id": "17980765",
   "metadata": {},
   "source": [
    "Import and configure numpy, pandas, matplotlib, Tensorflow and Keras."
   ]
  },
  {
   "cell_type": "code",
   "execution_count": 8,
   "id": "5e3f6e01",
   "metadata": {},
   "outputs": [],
   "source": [
    "import numpy as np\n",
    "import pandas as pd\n",
    "\n",
    "from keras.layers import Input, Flatten, Dense\n",
    "from keras.models import Model\n",
    "from keras.optimizers import Adam\n",
    "\n",
    "import matplotlib.image as mpimg\n",
    "import matplotlib.pyplot as plt\n",
    "%matplotlib inline\n",
    "plt.style.use('default')"
   ]
  },
  {
   "cell_type": "markdown",
   "id": "a2043791",
   "metadata": {},
   "source": [
    "### Load CPUNKS-10K Dataset and Inspect it."
   ]
  },
  {
   "cell_type": "markdown",
   "id": "d3dd93d8",
   "metadata": {},
   "source": [
    "The function below implements a naive partitioning strategy for creating train and test sets built from CPUNKS-10K. It is included here so that you can extend it as you explore new partitioning strategies."
   ]
  },
  {
   "cell_type": "code",
   "execution_count": 11,
   "id": "058e7670",
   "metadata": {},
   "outputs": [],
   "source": [
    "def load_data(labels):\n",
    "    df = pd.read_pickle('../data/punks.pkl')\n",
    "    X = df['img'].to_numpy()\n",
    "    Y = df[labels].to_numpy()\n",
    "    X  = np.array([row[0] for row in X])\n",
    "    X_train = X[0:9000]\n",
    "    Y_train = Y[0:9000]\n",
    "    X_test = X[9000:10000]\n",
    "    Y_test = Y[9000:10000]\n",
    "    return (X_train, Y_train), (X_test, Y_test)"
   ]
  },
  {
   "cell_type": "code",
   "execution_count": 35,
   "id": "d3bb1a65",
   "metadata": {},
   "outputs": [],
   "source": [
    "df = pd.read_pickle('../data/punks.pkl')"
   ]
  },
  {
   "cell_type": "markdown",
   "id": "8f598e9d",
   "metadata": {},
   "source": [
    "Run the function to create train and test sets for use in Keras and Tensorflow. In this example, we will keep the classifier as simple as possible, using only 'male' and 'female' traits in classification."
   ]
  },
  {
   "cell_type": "code",
   "execution_count": 50,
   "id": "491b906c",
   "metadata": {},
   "outputs": [],
   "source": [
    "labels = ['male', 'female']\n",
    "labels = ['alien', 'ape', 'zombie', 'male', 'female']\n",
    "(X_train, Y_train),(X_test, Y_test) = load_data(labels)"
   ]
  },
  {
   "cell_type": "markdown",
   "id": "117303f0",
   "metadata": {},
   "source": [
    "Inspect the data."
   ]
  },
  {
   "cell_type": "code",
   "execution_count": 38,
   "id": "732ac82d",
   "metadata": {},
   "outputs": [
    {
     "data": {
      "text/plain": [
       "(((9000, 24, 24, 3), (9000, 2)), ((1000, 24, 24, 3), (1000, 2)))"
      ]
     },
     "execution_count": 38,
     "metadata": {},
     "output_type": "execute_result"
    }
   ],
   "source": [
    "(X_train.shape, Y_train.shape), (X_test.shape, Y_test.shape)"
   ]
  },
  {
   "cell_type": "markdown",
   "id": "0b9f5ae1",
   "metadata": {},
   "source": [
    "### Build a Simple Classifier."
   ]
  },
  {
   "cell_type": "markdown",
   "id": "92a1637a",
   "metadata": {},
   "source": [
    "Each of the images in CPUNKS-10K is comprised of a 24X24X3 `numpy` array holding uint8 values. The network shown below setups the `Input` layer based on image size, creates two `Dense` layers and a final output layer that will hold probabilities for each of the 2 labels in the output."
   ]
  },
  {
   "cell_type": "code",
   "execution_count": 57,
   "id": "4b30b08c",
   "metadata": {},
   "outputs": [],
   "source": [
    "input_layer = Input(shape = (24, 24,3))\n",
    "x = Flatten()(input_layer)\n",
    "\n",
    "x = Dense(units = 200, activation = 'relu')(x)\n",
    "x = Dense(units = 150, activation = 'relu')(x)\n",
    "\n",
    "output_layer = Dense(units=len(labels), activation = 'softmax')(x)\n",
    "\n",
    "model = Model(input_layer, output_layer)"
   ]
  },
  {
   "cell_type": "markdown",
   "id": "1097b138",
   "metadata": {},
   "source": [
    "Next, create an optimizer with learning rate = 0.0005 and compile the model."
   ]
  },
  {
   "cell_type": "code",
   "execution_count": 58,
   "id": "448ea795",
   "metadata": {},
   "outputs": [],
   "source": [
    "opt = Adam(lr=0.0005)\n",
    "model.compile(loss='categorical_crossentropy',\n",
    "              optimizer=opt,\n",
    "              metrics = ['accuracy'])"
   ]
  },
  {
   "cell_type": "markdown",
   "id": "b52073cb",
   "metadata": {},
   "source": [
    "### Train the model"
   ]
  },
  {
   "cell_type": "markdown",
   "id": "635ec1a5",
   "metadata": {},
   "source": [
    "Use the model's `fit` method to train the model."
   ]
  },
  {
   "cell_type": "code",
   "execution_count": 59,
   "id": "f9d1032f",
   "metadata": {},
   "outputs": [
    {
     "name": "stdout",
     "output_type": "stream",
     "text": [
      "Epoch 1/10\n",
      "282/282 [==============================] - 2s 5ms/step - loss: 0.1753 - accuracy: 0.9666\n",
      "Epoch 2/10\n",
      "282/282 [==============================] - 1s 5ms/step - loss: 0.0126 - accuracy: 0.9972\n",
      "Epoch 3/10\n",
      "282/282 [==============================] - 1s 5ms/step - loss: 0.0040 - accuracy: 0.9988\n",
      "Epoch 4/10\n",
      "282/282 [==============================] - 1s 5ms/step - loss: 0.0011 - accuracy: 1.0000\n",
      "Epoch 5/10\n",
      "282/282 [==============================] - 1s 5ms/step - loss: 4.1871e-04 - accuracy: 1.0000\n",
      "Epoch 6/10\n",
      "282/282 [==============================] - 1s 5ms/step - loss: 0.0141 - accuracy: 0.9969\n",
      "Epoch 7/10\n",
      "282/282 [==============================] - 1s 5ms/step - loss: 0.0013 - accuracy: 0.9995\n",
      "Epoch 8/10\n",
      "282/282 [==============================] - 1s 5ms/step - loss: 1.6208e-04 - accuracy: 1.0000\n",
      "Epoch 9/10\n",
      "282/282 [==============================] - 1s 5ms/step - loss: 8.2118e-05 - accuracy: 1.0000\n",
      "Epoch 10/10\n",
      "282/282 [==============================] - 1s 4ms/step - loss: 5.3178e-05 - accuracy: 1.0000\n"
     ]
    },
    {
     "data": {
      "text/plain": [
       "<tensorflow.python.keras.callbacks.History at 0x7f9ae9fe4430>"
      ]
     },
     "execution_count": 59,
     "metadata": {},
     "output_type": "execute_result"
    }
   ],
   "source": [
    "model.fit(X_train,\n",
    "          Y_train,\n",
    "          batch_size = 32,\n",
    "          epochs = 10,\n",
    "          shuffle = True)"
   ]
  },
  {
   "cell_type": "markdown",
   "id": "07cd64fd",
   "metadata": {},
   "source": [
    "### Evaluate the Model"
   ]
  },
  {
   "cell_type": "markdown",
   "id": "bf302ce4",
   "metadata": {},
   "source": [
    "The model's `evaluate` method will peek at the outsample test data to calculate an accuracy score for the trained model. "
   ]
  },
  {
   "cell_type": "code",
   "execution_count": 60,
   "id": "06be2b51",
   "metadata": {},
   "outputs": [
    {
     "name": "stdout",
     "output_type": "stream",
     "text": [
      "32/32 [==============================] - 0s 3ms/step - loss: 4.2101e-05 - accuracy: 1.0000\n"
     ]
    },
    {
     "data": {
      "text/plain": [
       "[4.2101277358597144e-05, 1.0]"
      ]
     },
     "execution_count": 60,
     "metadata": {},
     "output_type": "execute_result"
    }
   ],
   "source": [
    "model.evaluate(X_test, Y_test)"
   ]
  },
  {
   "cell_type": "markdown",
   "id": "4f73bf21",
   "metadata": {},
   "source": [
    "You will probably find that the model is strikingly accurate for such a simple model. Understanding why this model is so accurate is a great exercise for beginning machine learning practicioners and left as an exercise. "
   ]
  },
  {
   "cell_type": "markdown",
   "id": "0f1e645d",
   "metadata": {},
   "source": [
    "### Trust and Validate"
   ]
  },
  {
   "cell_type": "markdown",
   "id": "b027b9d5",
   "metadata": {},
   "source": [
    "When a model returns surprising results, it is always good to validate using inspection methods. For humans, visual inpsection is a great first pass."
   ]
  },
  {
   "cell_type": "markdown",
   "id": "d6200d8a",
   "metadata": {},
   "source": [
    "First, collect all the predictions on the outsample and prepare two arrays containing predicted v. actual"
   ]
  },
  {
   "cell_type": "code",
   "execution_count": 61,
   "id": "b5589baa",
   "metadata": {},
   "outputs": [],
   "source": [
    "labels=np.array(labels)\n",
    "\n",
    "preds = model.predict(X_test)\n",
    "preds_single = labels[np.argmax(preds, axis=-1)]\n",
    "actual_single = labels[np.argmax(Y_test, axis=-1)]"
   ]
  },
  {
   "cell_type": "markdown",
   "id": "c2e80a54",
   "metadata": {},
   "source": [
    "Now, plot the predicted v. actual in a grid using `matplotlib`."
   ]
  },
  {
   "cell_type": "code",
   "execution_count": 64,
   "id": "c2ec9c06",
   "metadata": {},
   "outputs": [
    {
     "data": {
      "image/png": "[encoded data removed]",
      "text/plain": [
       "<Figure size 1500x300 with 10 Axes>"
      ]
     },
     "metadata": {},
     "output_type": "display_data"
    }
   ],
   "source": [
    "n=10\n",
    "indices = np.random.choice(range(len(X_test)), n)\n",
    "fig = plt.figure(figsize=(15,3))\n",
    "fig.subplots_adjust(hspace=0.4, wspace=0.4)\n",
    "for i, idx in enumerate(indices):\n",
    "    img = X_test[idx]\n",
    "    ax = fig.add_subplot(1, n, i+1)\n",
    "    ax.axis('off')\n",
    "    ax.text(0.5, -0.35, \n",
    "            f\"{idx}:  {str(actual_single[idx])}\", \n",
    "            fontsize=10, \n",
    "            ha='center',\n",
    "            transform=ax.transAxes)\n",
    "    ax.text(0.5, \n",
    "            -0.70, \n",
    "            'pred  = ' + str(preds_single[idx]), \n",
    "            fontsize=10,  \n",
    "            ha='center',\n",
    "           transform=ax.transAxes)\n",
    "    ax.imshow(img)"
   ]
  },
  {
   "cell_type": "markdown",
   "id": "65e129ae",
   "metadata": {},
   "source": [
    "# Inspect a single punk."
   ]
  },
  {
   "cell_type": "markdown",
   "id": "04aed7c6",
   "metadata": {},
   "source": [
    "After random inspection, you might want to inspect the values for a single punk. For example, checking in on a zombie or alien."
   ]
  },
  {
   "cell_type": "markdown",
   "id": "9dfc7e91",
   "metadata": {},
   "source": [
    "The test set in this notebook is comprised of CryptoPunks 9000 through 1000. We can lookup the actual, predicted and image of Punk 9997 using the code below. For referenced, here's a link to the punks page on the Larva Labs CryptoPunks site:\n",
    "     -  [https://www.larvalabs.com/cryptopunks/details/9997]"
   ]
  },
  {
   "cell_type": "code",
   "execution_count": 80,
   "id": "db6a8e83",
   "metadata": {},
   "outputs": [
    {
     "data": {
      "text/plain": [
       "('zombie', 'zombie')"
      ]
     },
     "execution_count": 80,
     "metadata": {},
     "output_type": "execute_result"
    }
   ],
   "source": [
    "pid = 9997 - 9000\n",
    "(actual_single[pid],preds_single[pid])"
   ]
  },
  {
   "cell_type": "code",
   "execution_count": null,
   "id": "97117f14",
   "metadata": {},
   "outputs": [],
   "source": [
    "plt.imshow()"
   ]
  }
 ],
 "metadata": {
  "kernelspec": {
   "display_name": "Python 3 (ipykernel)",
   "language": "python",
   "name": "python3"
  },
  "language_info": {
   "codemirror_mode": {
    "name": "ipython",
    "version": 3
   },
   "file_extension": ".py",
   "mimetype": "text/x-python",
   "name": "python",
   "nbconvert_exporter": "python",
   "pygments_lexer": "ipython3",
   "version": "3.9.7"
  }
 },
 "nbformat": 4,
 "nbformat_minor": 5
}
