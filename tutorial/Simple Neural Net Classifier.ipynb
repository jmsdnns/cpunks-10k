{
 "cells": [
  {
   "cell_type": "markdown",
   "id": "70f6f236",
   "metadata": {},
   "source": [
    "# Simple Neural Net Classifier"
   ]
  },
  {
   "cell_type": "markdown",
   "id": "5a8539ad",
   "metadata": {},
   "source": [
    "This notebook demonstrates using Tensorflow and Keras libraries to train a simple neural net classifier to make predictions using the CPUNKS-10k dataset. This notebook assumes familiarity with the Tensorflow, Keras and basic concepts in machine learning."
   ]
  },
  {
   "cell_type": "markdown",
   "id": "cdc1cb2d",
   "metadata": {},
   "source": [
    "### Setup"
   ]
  },
  {
   "cell_type": "markdown",
   "id": "50d19300",
   "metadata": {},
   "source": [
    "Import and configure numpy, pandas, matplotlib, Tensorflow and Keras."
   ]
  },
  {
   "cell_type": "code",
   "execution_count": 1,
   "id": "3190c671",
   "metadata": {},
   "outputs": [],
   "source": [
    "import numpy as np\n",
    "import pandas as pd\n",
    "\n",
    "from keras.layers import Input, Flatten, Dense\n",
    "from keras.models import Model\n",
    "from keras.optimizers import Adam\n",
    "\n",
    "import matplotlib.image as mpimg\n",
    "import matplotlib.pyplot as plt\n",
    "%matplotlib inline\n",
    "plt.style.use('default')"
   ]
  },
  {
   "cell_type": "markdown",
   "id": "69a5cb1d",
   "metadata": {},
   "source": [
    "### Load CPUNKS-10K Dataset and Inspect it."
   ]
  },
  {
   "cell_type": "markdown",
   "id": "a860b1dd",
   "metadata": {},
   "source": [
    "The function below implements a naive partitioning strategy for creating train and test sets built from CPUNKS-10K. It is included here so that you can extend it as you explore new partitioning strategies."
   ]
  },
  {
   "cell_type": "code",
   "execution_count": 26,
   "id": "f7efdce3",
   "metadata": {},
   "outputs": [],
   "source": [
    "def any_to_one(i):\n",
    "    x= True\n",
    "    if i['any']:\n",
    "        x=False\n",
    "    return int(x)\n",
    "\n",
    "def load_data(labels):\n",
    "    df = pd.read_pickle('../data/punks.pkl')[labels + ['img']]\n",
    "    df['any'] = df[labels].apply(np.any, axis=1)\n",
    "    df['none'] = df.apply(lambda x: any_to_one(x), axis=1)\n",
    "    df = df.drop(['any'], axis=1)\n",
    "    X = df['img'].to_numpy()\n",
    "    Y = df[labels + ['none']].to_numpy()\n",
    "    X  = np.array([row[0] for row in X])\n",
    "    X_train = X[0:9000]\n",
    "    Y_train = Y[0:9000]\n",
    "    X_test = X[9000:10000]\n",
    "    Y_test = Y[9000:10000]\n",
    "    return (X_train, Y_train), (X_test, Y_test)"
   ]
  },
  {
   "cell_type": "markdown",
   "id": "9dc8c435",
   "metadata": {},
   "source": [
    "Run the function to create train and test sets for use in Keras and Tensorflow. In this example, we will keep the classifier as simple as possible, using only 'male' and 'female' traits in classification."
   ]
  },
  {
   "cell_type": "code",
   "execution_count": 52,
   "id": "47e551ae",
   "metadata": {},
   "outputs": [
    {
     "data": {
      "text/plain": [
       "['earring', 'none']"
      ]
     },
     "execution_count": 52,
     "metadata": {},
     "output_type": "execute_result"
    }
   ],
   "source": [
    "labels = ['male', 'female']\n",
    "labels = ['alien', 'ape', 'zombie', 'male', 'female']\n",
    "labels = ['earring']\n",
    "(X_train, Y_train),(X_test, Y_test) = load_data(labels)\n",
    "labels = labels + ['none']\n",
    "labels"
   ]
  },
  {
   "cell_type": "markdown",
   "id": "820d1825",
   "metadata": {},
   "source": [
    "Inspect the data."
   ]
  },
  {
   "cell_type": "code",
   "execution_count": 53,
   "id": "dfe119c0",
   "metadata": {},
   "outputs": [
    {
     "data": {
      "text/plain": [
       "(((9000, 24, 24, 3), (9000, 2)), ((1000, 24, 24, 3), (1000, 2)))"
      ]
     },
     "execution_count": 53,
     "metadata": {},
     "output_type": "execute_result"
    }
   ],
   "source": [
    "(X_train.shape, Y_train.shape), (X_test.shape, Y_test.shape)"
   ]
  },
  {
   "cell_type": "markdown",
   "id": "613b8214",
   "metadata": {},
   "source": [
    "### Build a Simple Classifier."
   ]
  },
  {
   "cell_type": "markdown",
   "id": "d7f1ab19",
   "metadata": {},
   "source": [
    "Each of the images in CPUNKS-10K is comprised of a 24X24X3 `numpy` array holding uint8 values. The network shown below setups the `Input` layer based on image size, creates two `Dense` layers and a final output layer that will hold probabilities for each of the 2 labels in the output."
   ]
  },
  {
   "cell_type": "code",
   "execution_count": 54,
   "id": "481ed830",
   "metadata": {},
   "outputs": [],
   "source": [
    "input_layer = Input(shape = (24, 24,3))\n",
    "x = Flatten()(input_layer)\n",
    "\n",
    "x = Dense(units = 200, activation = 'relu')(x)\n",
    "x = Dense(units = 150, activation = 'relu')(x)\n",
    "\n",
    "output_layer = Dense(units=len(labels), activation = 'softmax')(x)\n",
    "\n",
    "model = Model(input_layer, output_layer)"
   ]
  },
  {
   "cell_type": "markdown",
   "id": "8651d8be",
   "metadata": {},
   "source": [
    "Next, create an optimizer with learning rate = 0.0005 and compile the model."
   ]
  },
  {
   "cell_type": "code",
   "execution_count": 55,
   "id": "68fbdf59",
   "metadata": {},
   "outputs": [],
   "source": [
    "opt = Adam(lr=0.0005)\n",
    "model.compile(loss='categorical_crossentropy',\n",
    "              optimizer=opt,\n",
    "              metrics = ['accuracy'])"
   ]
  },
  {
   "cell_type": "markdown",
   "id": "4d96dcda",
   "metadata": {},
   "source": [
    "### Train the model"
   ]
  },
  {
   "cell_type": "markdown",
   "id": "bc512e3e",
   "metadata": {},
   "source": [
    "Use the model's `fit` method to train the model."
   ]
  },
  {
   "cell_type": "code",
   "execution_count": null,
   "id": "550198c3",
   "metadata": {},
   "outputs": [
    {
     "name": "stdout",
     "output_type": "stream",
     "text": [
      "Epoch 1/10\n",
      "282/282 [==============================] - 2s 6ms/step - loss: 0.1145 - accuracy: 0.9522\n",
      "Epoch 2/10\n",
      "282/282 [==============================] - 1s 5ms/step - loss: 0.1152 - accuracy: 0.9518\n",
      "Epoch 3/10\n",
      "282/282 [==============================] - 1s 5ms/step - loss: 0.1130 - accuracy: 0.9523\n",
      "Epoch 4/10\n",
      "282/282 [==============================] - 1s 5ms/step - loss: 0.1153 - accuracy: 0.9510\n",
      "Epoch 5/10\n",
      "282/282 [==============================] - 2s 5ms/step - loss: 0.1155 - accuracy: 0.9523\n",
      "Epoch 6/10\n",
      "215/282 [=====================>........] - ETA: 0s - loss: 0.1148 - accuracy: 0.9503"
     ]
    }
   ],
   "source": [
    "model.fit(X_train,\n",
    "          Y_train,\n",
    "          batch_size = 32,\n",
    "          epochs = 10,\n",
    "          shuffle = True)"
   ]
  },
  {
   "cell_type": "markdown",
   "id": "e4d688ea",
   "metadata": {},
   "source": [
    "### Evaluate the Model"
   ]
  },
  {
   "cell_type": "markdown",
   "id": "f17ef4da",
   "metadata": {},
   "source": [
    "The model's `evaluate` method will peek at the outsample test data to calculate an accuracy score for the trained model. "
   ]
  },
  {
   "cell_type": "code",
   "execution_count": 47,
   "id": "a79934f7",
   "metadata": {},
   "outputs": [
    {
     "name": "stdout",
     "output_type": "stream",
     "text": [
      "32/32 [==============================] - 0s 4ms/step - loss: 3.9733e-05 - accuracy: 1.0000\n"
     ]
    },
    {
     "data": {
      "text/plain": [
       "[3.9732934965286404e-05, 1.0]"
      ]
     },
     "execution_count": 47,
     "metadata": {},
     "output_type": "execute_result"
    }
   ],
   "source": [
    "model.evaluate(X_test, Y_test)"
   ]
  },
  {
   "cell_type": "markdown",
   "id": "c43ce751",
   "metadata": {},
   "source": [
    "You will probably find that the model is strikingly accurate for such a simple model. Understanding why this model is so accurate is a great exercise for beginning machine learning practicioners and left as an exercise. "
   ]
  },
  {
   "cell_type": "markdown",
   "id": "0c6238c9",
   "metadata": {},
   "source": [
    "### Trust and Validate"
   ]
  },
  {
   "cell_type": "markdown",
   "id": "658926be",
   "metadata": {},
   "source": [
    "When a model returns surprising results, it is always good to validate using inspection methods. For humans, visual inpsection is a great first pass."
   ]
  },
  {
   "cell_type": "markdown",
   "id": "dafbb591",
   "metadata": {},
   "source": [
    "First, collect all the predictions on the outsample and prepare two arrays containing predicted v. actual"
   ]
  },
  {
   "cell_type": "code",
   "execution_count": 48,
   "id": "cc0d7d92",
   "metadata": {},
   "outputs": [],
   "source": [
    "labels=np.array(labels)\n",
    "\n",
    "preds = model.predict(X_test)\n",
    "preds_single = labels[np.argmax(preds, axis=-1)]\n",
    "actual_single = labels[np.argmax(Y_test, axis=-1)]"
   ]
  },
  {
   "cell_type": "markdown",
   "id": "8af99baf",
   "metadata": {},
   "source": [
    "Now, plot the predicted v. actual in a grid using `matplotlib`."
   ]
  },
  {
   "cell_type": "code",
   "execution_count": 49,
   "id": "f393089c",
   "metadata": {},
   "outputs": [
    {
     "data": {
      "image/png": "[encoded data removed]",
      "text/plain": [
       "<Figure size 1500x300 with 10 Axes>"
      ]
     },
     "metadata": {},
     "output_type": "display_data"
    }
   ],
   "source": [
    "n=10\n",
    "indices = np.random.choice(range(len(X_test)), n)\n",
    "fig = plt.figure(figsize=(15,3))\n",
    "fig.subplots_adjust(hspace=0.4, wspace=0.4)\n",
    "for i, idx in enumerate(indices):\n",
    "    img = X_test[idx]\n",
    "    ax = fig.add_subplot(1, n, i+1)\n",
    "    ax.axis('off')\n",
    "    ax.text(0.5, -0.35, \n",
    "            f\"{idx}:  {str(actual_single[idx])}\", \n",
    "            fontsize=10, \n",
    "            ha='center',\n",
    "            transform=ax.transAxes)\n",
    "    ax.text(0.5, \n",
    "            -0.70, \n",
    "            'pred  = ' + str(preds_single[idx]), \n",
    "            fontsize=10,  \n",
    "            ha='center',\n",
    "           transform=ax.transAxes)\n",
    "    ax.imshow(img)"
   ]
  },
  {
   "cell_type": "markdown",
   "id": "0f5f1b12",
   "metadata": {},
   "source": [
    "# Inspect a single punk."
   ]
  },
  {
   "cell_type": "markdown",
   "id": "ffc09e4b",
   "metadata": {},
   "source": [
    "After random inspection, you might want to inspect the values for a single punk. For example, checking in on a zombie or alien."
   ]
  },
  {
   "cell_type": "markdown",
   "id": "4b84019d",
   "metadata": {},
   "source": [
    "The test set in this notebook is comprised of CryptoPunks 9000 through 1000. We can lookup the actual, predicted and image of Punk 9997 using the code below. For referenced, here's a link to the punks page on the Larva Labs CryptoPunks site:\n",
    "     -  [https://www.larvalabs.com/cryptopunks/details/9997]"
   ]
  },
  {
   "cell_type": "code",
   "execution_count": 50,
   "id": "18090ed5",
   "metadata": {},
   "outputs": [
    {
     "data": {
      "text/plain": [
       "('zombie', 'zombie')"
      ]
     },
     "execution_count": 50,
     "metadata": {},
     "output_type": "execute_result"
    }
   ],
   "source": [
    "pid = 9997 - 9000\n",
    "(actual_single[pid],preds_single[pid])"
   ]
  },
  {
   "cell_type": "code",
   "execution_count": 51,
   "id": "051e5d0f",
   "metadata": {},
   "outputs": [
    {
     "data": {
      "text/plain": [
       "<matplotlib.image.AxesImage at 0x7f9078e10280>"
      ]
     },
     "execution_count": 51,
     "metadata": {},
     "output_type": "execute_result"
    },
    {
     "data": {
      "image/png": "[encoded data removed]",
      "text/plain": [
       "<Figure size 640x480 with 1 Axes>"
      ]
     },
     "metadata": {},
     "output_type": "display_data"
    }
   ],
   "source": [
    "plt.imshow(X_test[pid])"
   ]
  }
 ],
 "metadata": {
  "kernelspec": {
   "display_name": "Python 3 (ipykernel)",
   "language": "python",
   "name": "python3"
  },
  "language_info": {
   "codemirror_mode": {
    "name": "ipython",
    "version": 3
   },
   "file_extension": ".py",
   "mimetype": "text/x-python",
   "name": "python",
   "nbconvert_exporter": "python",
   "pygments_lexer": "ipython3",
   "version": "3.9.7"
  }
 },
 "nbformat": 4,
 "nbformat_minor": 5
}
